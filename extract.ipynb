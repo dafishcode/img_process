{
 "cells": [
  {
   "cell_type": "code",
   "execution_count": 1,
   "metadata": {},
   "outputs": [],
   "source": [
    "import os\n",
    "import glob \n",
    "import numpy as np\n",
    "import pandas as pd\n",
    "import matplotlib.pyplot as plt\n"
   ]
  },
  {
   "cell_type": "code",
   "execution_count": 2,
   "metadata": {},
   "outputs": [],
   "source": [
    "datapath = \"/Users/dominicburrows/Documents/PhD/Imaging/181217_grin_Gc6s_SA_15%/F1_10x15_181217_grin_suite2p/\"\n",
    "os.chdir(datapath)   #set current directory to datapath\n",
    "planes = sorted(glob.glob(\"plane*\"))   #list all planes in each folder   \n",
    "plane_no = 10\n",
    "coord = list((range(plane_no)))\n",
    "signal = list((range(plane_no)))\n",
    "cells = list((range(plane_no)))"
   ]
  },
  {
   "cell_type": "code",
   "execution_count": 3,
   "metadata": {},
   "outputs": [],
   "source": [
    "for i in range(plane_no):\n",
    "    os.chdir(datapath + \"/\" + \"plane\" + str(i))   #make current directory the plane folder we are looping through \n",
    "    allcells = np.load(\"iscell.npy\")  #allcells loads iscell.npy (contains prob of being a cell) file into array\n",
    "    fl = np.load(\"F.npy\") [allcells [:,1] > 0.5, :] #fl loads F.npy, but calls only the row numbers which in x are above 0.5\n",
    "    stats = np.load(\"stat.npy\") [allcells [:,1] > 0.5]  #stats loads stat.npy for only rows above 0.5 in iscell\n",
    "    xy = np.zeros((len(stats),2))     #xy variable filled with zeros with size of stats array\n",
    "        \n",
    "    for  j in range (len(stats)):          #loop through length of stats\n",
    "        xy [j,] = stats [j] ['med']   #fills centers matrix with info about cell number (j) and corresponding med values for each cell\n",
    "    \n",
    "    xyz = np.concatenate([xy, np.full((len(fl), 1), i)], axis = 1)\n",
    "    coord[i] = xyz\n",
    "    signal[i] = fl\n",
    "    "
   ]
  },
  {
   "cell_type": "code",
   "execution_count": 4,
   "metadata": {},
   "outputs": [],
   "source": [
    "com_coord = np.concatenate((coord [0], coord [1], coord [2], coord [3], coord[4], coord[5], coord[6], coord[7], coord[8], coord[9]))\n",
    "com_signal = np.concatenate((signal [0], signal [1], signal [2], signal [3], signal[4], signal[5], signal[6], signal[7], signal[8], signal[9]))"
   ]
  },
  {
   "cell_type": "code",
   "execution_count": 6,
   "metadata": {},
   "outputs": [],
   "source": [
    "os.chdir(datapath)\n",
    "np.save(\"com_coord.npy\", com_coord)\n",
    "np.save(\"com_signal.npy\", com_signal)\n",
    "np.save(\"int_com_signal.npy\", com_signal.astype(\"int\"))"
   ]
  },
  {
   "cell_type": "code",
   "execution_count": 61,
   "metadata": {},
   "outputs": [],
   "source": [
    "from scipy import signal\n",
    "\n",
    "fs = 9828  # Sampling frequency\n",
    "celln = com_signal.shape[0]\n",
    "filt_comb = list((range(celln)))\n",
    "mini = list((range(celln)))\n",
    "maxi = list((range(celln)))\n",
    "\n",
    "for i in range (celln):\n",
    "    trace = com_signal [i,:]\n",
    "    # Generate the time vector properly\n",
    "    t = np.arange(9828)     #generate 9828 point, evenly spaced in range 0 - 1. \n",
    "\n",
    "    signala = trace\n",
    "    signalb = np.sin(2*np.pi*20*t) # setting filter with sin wave of specific frequency (20)\n",
    "    signalc = signala + signalb\n",
    "\n",
    "    fc = 150\n",
    "    # Cut-off frequency of the filter, anything higher will not be included\n",
    "    w = fc / (fs / 2) # Normalize the frequency\n",
    "    b, a = signal.butter(5, w, 'low')\n",
    "    filt = signal.filtfilt(b, a, signalc)\n",
    "    filt_comb[i] = filt\n",
    "    maxi[i] = max(filt)\n",
    "    mini[i] = min(filt)"
   ]
  },
  {
   "cell_type": "code",
   "execution_count": 78,
   "metadata": {},
   "outputs": [],
   "source": [
    "maxir = np.asarray(maxi)\n",
    "minir = np.asarray(mini)"
   ]
  },
  {
   "cell_type": "code",
   "execution_count": 79,
   "metadata": {},
   "outputs": [
    {
     "data": {
      "text/plain": [
       "[<matplotlib.lines.Line2D at 0x121a502b0>]"
      ]
     },
     "execution_count": 79,
     "metadata": {},
     "output_type": "execute_result"
    },
    {
     "data": {
      "image/png": "[encoded data removed]",
      "text/plain": [
       "<Figure size 432x288 with 1 Axes>"
      ]
     },
     "metadata": {
      "needs_background": "light"
     },
     "output_type": "display_data"
    }
   ],
   "source": [
    "plt.plot(maxir, label = max)\n",
    "plt.plot(minir, label = min)"
   ]
  },
  {
   "cell_type": "code",
   "execution_count": 88,
   "metadata": {},
   "outputs": [
    {
     "data": {
      "text/plain": [
       "5394.680541907979"
      ]
     },
     "execution_count": 88,
     "metadata": {},
     "output_type": "execute_result"
    }
   ],
   "source": [
    "maxi[1]"
   ]
  },
  {
   "cell_type": "code",
   "execution_count": null,
   "metadata": {},
   "outputs": [],
   "source": []
  }
 ],
 "metadata": {
  "kernelspec": {
   "display_name": "Python 3",
   "language": "python",
   "name": "python3"
  },
  "language_info": {
   "codemirror_mode": {
    "name": "ipython",
    "version": 3
   },
   "file_extension": ".py",
   "mimetype": "text/x-python",
   "name": "python",
   "nbconvert_exporter": "python",
   "pygments_lexer": "ipython3",
   "version": "3.7.0"
  }
 },
 "nbformat": 4,
 "nbformat_minor": 2
}
