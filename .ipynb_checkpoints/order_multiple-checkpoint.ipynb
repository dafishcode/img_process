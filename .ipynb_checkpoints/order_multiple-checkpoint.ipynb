{
 "cells": [
  {
   "cell_type": "code",
   "execution_count": 21,
   "metadata": {},
   "outputs": [],
   "source": [
    "import numpy as np\n",
    "from skimage import io\n",
    "from skimage.io import imread\n",
    "#from skimage.external.tifffile import imread, TiffFile\n",
    "import os\n",
    "import glob\n",
    "\n",
    "\n",
    "#paths\n",
    "datapath = \"/Volumes/Dominic 10tb/Data2process/Project/PTZ-WILDTYPE/200317-WILDTYPE/\"\n",
    "num = 'F13'\n",
    "new_name = 'BLN-PTZ05-PTZ20-WILDTYPE'\n",
    "os.chdir(datapath)   #set current directory to datapath\n",
    "tif_list = sorted(glob.glob(num  + \"*tif\"))  \n",
    "\n",
    "\n",
    "def tiff_split(data_path, tif_list):   #define function tiff_split, and with two inputs\n",
    "    curr_tif = tif_list[0]\n",
    "    new_dir = num + '-' + new_name + '-' + curr_tif[curr_tif.find('2p'):curr_tif.find('run')+6]\n",
    "    os.mkdir(new_dir)         #create directory named with first two letters of file in tif\n",
    "    counter = 1                   #keeps running count of file number for saving/not saving\n",
    "    names = 1                     #keeps running tab of file number for naming\n",
    "    for e in range(len(tif_list)):\n",
    "        tif = tif_list[e]\n",
    "        img = imread(tif)             #function which reads the tif variable as a numpy array\n",
    "\n",
    "        for i in range(img.shape [0]): #i loop through number of frames in each tif file\n",
    "            if counter%cut == 0:         #if counter is divisible by six, do not save\n",
    "                counter +=1            #counter iterate when it is at 6\n",
    "            else:\n",
    "                io.imsave(arr =img [i,:,:],  fname= data_path + new_dir + \"/\" + \"im_\" +  str(names).zfill(6)  + \".tif\")\n",
    "                counter+= 1 #else if not divisible by 6,all other values save the ith image in array and name\n",
    "                names+=1    #iterate counter and also name, but not name if i=6 so we get consecutive named files\n",
    "\n",
    "\n",
    "tiff_split(data_path=datapath, tif_list, cut= 11)  "
   ]
  }
 ],
 "metadata": {
  "kernelspec": {
   "display_name": "Python 3",
   "language": "python",
   "name": "python3"
  },
  "language_info": {
   "codemirror_mode": {
    "name": "ipython",
    "version": 3
   },
   "file_extension": ".py",
   "mimetype": "text/x-python",
   "name": "python",
   "nbconvert_exporter": "python",
   "pygments_lexer": "ipython3",
   "version": "3.7.6"
  }
 },
 "nbformat": 4,
 "nbformat_minor": 4
}
