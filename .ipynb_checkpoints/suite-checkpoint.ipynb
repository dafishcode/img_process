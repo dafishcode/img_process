{
 "cells": [
  {
   "cell_type": "code",
   "execution_count": 133,
   "metadata": {},
   "outputs": [
    {
     "name": "stdout",
     "output_type": "stream",
     "text": [
      "The autoreload extension is already loaded. To reload it, use:\n",
      "  %reload_ext autoreload\n"
     ]
    }
   ],
   "source": [
    "import numpy as np\n",
    "import sys\n",
    "# option to import from github folder\n",
    "# sys.path.insert(0, 'C:/Users/carse/github/suite2p')\n",
    "import suite2p\n",
    "from suite2p.run_s2p import run_s2p\n",
    "import os \n",
    "import glob\n",
    "import admin_functions1 as adfn\n",
    "from skimage import io\n",
    "from skimage.external.tifffile import imread, TiffFile \n",
    "from PIL import Image\n",
    "# Jupyter specific autoreloading for external functions (in case changes are made)\n",
    "%load_ext autoreload\n",
    "%autoreload\n",
    "# %matplotlib widget\n",
    "\n",
    "# Define paths\n",
    "#---------------------------------------------------------------------------\n",
    "Fdrop = '/Users/dominicburrows/Dropbox/PhD/analysis/'\n",
    "Fmac = '/Users/dominicburrows/Documents/'\n",
    "F10t = '/Volumes/Dominic 10tb/'\n",
    "Ffig = '/Users/dominicburrows/Dropbox/PhD/figures/'\n",
    "Ftm = '/Volumes/Dominic Time Machine/'"
   ]
  },
  {
   "cell_type": "markdown",
   "metadata": {},
   "source": [
    "## Preprocess files"
   ]
  },
  {
   "cell_type": "code",
   "execution_count": null,
   "metadata": {},
   "outputs": [],
   "source": [
    "#PUT ALL TIFFS INTO SINGLE FILE TO RUN SUITE2P\n",
    "numlist = adfn.name_zero('front', 5,5, 1)\n",
    "for t in numlist:\n",
    "    \n",
    "    fish = 'PTZ-WILDTYPE-' + t + '/2photon/sess-01-6dpf/'\n",
    "    read_path = Ftm + 'Project/' + fish\n",
    "    save_path = F10t + 'Project/' + fish[:fish.find('2photon')-1]\n",
    "    os.mkdir(save_path)\n",
    "        \n",
    "    for y in range(10):\n",
    "        os.chdir(read_path)\n",
    "        blnlist = sorted(glob.glob('*BLN' + '*plane' + str(y) + '*tif'))\n",
    "        p5list = sorted(glob.glob('*PTZ05' + '*plane' + str(y) + '*tif'))\n",
    "        p20list = sorted(glob.glob('*PTZ20' + '*plane' + str(y) + '*tif'))\n",
    "        alllist = np.append(blnlist, np.append(p5list, p20list))\n",
    "        pid = alllist[0][alllist[0].find('PTZ-WILDTYPE'):alllist[0].find('WILDTYPE')+11] + '_' + alllist[0][alllist[0].find('pla'):alllist[0].find('pla')+6 ]\n",
    "        os.chdir(save_path)\n",
    "        os.mkdir(pid)\n",
    "\n",
    "        for x in range(len(alllist)):\n",
    "            io.imsave(arr = imread(read_path + alllist[x]),  fname= save_path + '/' + pid + '/' + str(alllist[x]))\n"
   ]
  },
  {
   "cell_type": "code",
   "execution_count": null,
   "metadata": {},
   "outputs": [],
   "source": [
    "#SAVE REGISTERED TIFFS IN TEMPORARY FOLDER FOR SUITE2P\n",
    "#loop through registered tiffs and save new folder containing them - to run suite2p\n",
    "#------------------------------------------------------------------------------------------------------\n",
    "\n",
    "# Define which fish \n",
    "#---------------------------------------------------------------------------\n",
    "for t in range(3,4):\n",
    "    \n",
    "    fish = 'PTZ-WILDTYPE-0' + str(t) + '/2photon/sess-01-6dpf/'\n",
    "    finalpath = Ftm + 'Project/' + fish\n",
    "    tmpath = Ftm + 'Project/' + fish[:fish.find('2photon')-1]\n",
    "\n",
    "    for i in range(3):\n",
    "        if i == 0:\n",
    "            condition = 'BLN'\n",
    "        elif i ==1:\n",
    "            condition = 'PTZ05'\n",
    "        elif i ==2:\n",
    "            condition = 'PTZ20'\n",
    "        \n",
    "        for y in range(10):\n",
    "            os.chdir(finalpath)\n",
    "            alllist = sorted(glob.glob('*' + condition + '*plane' + str(y) + '*'))\n",
    "            pid = alllist[0][alllist[0].find('PTZ-WILDTYPE'):alllist[0].find('WILDTYPE')+11] + alllist[0][alllist[0].find('dpf')+3:alllist[0].find('dpf')+8] + alllist[0][alllist[0].find('pla'):alllist[0].find('pla')+6 ]\n",
    "            os.chdir(Ftm + 'Project/' + fish[:16])\n",
    "            os.mkdir(pid)\n",
    "\n",
    "            for x in range(len(alllist)):\n",
    "                io.imsave(arr = imread(finalpath + alllist[x]),  fname= tmpath + '/' + pid + '/' + str(alllist[x]))"
   ]
  },
  {
   "cell_type": "code",
   "execution_count": null,
   "metadata": {},
   "outputs": [],
   "source": [
    "#REGISTRATION FAILURE on single plane - EXTRACT RAW TIFF FOR PLANE - suite2p without registration\n",
    "# Loop through raw tiffs to pull out individual plane \n",
    "#--------------------------------------------------------------------------------------\n",
    "\n",
    "# Define which fish \n",
    "#---------------------------------------------------------------------------\n",
    "experiment = 'PTZ-WILDTYPE'\n",
    "date = '190711-WILDTYPE'\n",
    "fish = 'F12-PTZ05-WILDTYPE-2photon-6dpf-gc6s-15%-sess-01-run-01'\n",
    "finalpath = F10t + '/Data2process/Project/' +  experiment + os.sep + date + os.sep + fish\n",
    "os.chdir(finalpath)\n",
    "plane = 0\n",
    "\n",
    "planelist = sorted(glob.glob('*' + str(plane) + '.tif'))\n",
    "newfold = F10t + '/Data2process/Project/' +  experiment + os.sep + date + os.sep + fish[:18] + 'plane' + str(plane)\n",
    "os.mkdir(newfold)\n",
    "\n",
    "for i in range(len(planelist)):\n",
    "    io.imsave(arr = imread(finalpath + os.sep + planelist[i]),  fname= newfold + os.sep + str(planelist[i]))"
   ]
  },
  {
   "cell_type": "markdown",
   "metadata": {},
   "source": [
    "## Define suite2p settings"
   ]
  },
  {
   "cell_type": "code",
   "execution_count": 135,
   "metadata": {},
   "outputs": [],
   "source": [
    "# set your options for running\n",
    "# overwrites the run_s2p.default_ops\n",
    "#-----------------------------------------\n",
    "\n",
    "ops = {\n",
    "            'fast_disk': [], # used to store temporary binary file, defaults to save_path0 (set as a string NOT a list)\n",
    "            'save_path0': [], # stores results, defaults to first item in data_path\n",
    "            'delete_bin': 1, # whether to delete binary file after processing\n",
    "            # main settings\n",
    "            'nplanes' : 1, # each tiff has these many planes in sequence\n",
    "            'nchannels' : 1, # each tiff has these many channels per plane\n",
    "            'functional_chan' : 1, # this channel is used to extract functional ROIs (1-based)\n",
    "            'diameter':5, # def = 5, this is the main parameter for cell detection, 2-dimensional if Y and X are different (e.g. [6 12])\n",
    "            'tau':  1., # this is the main parameter for deconvolution\n",
    "            'fs': 2.73,  # sampling rate (total across planes)\n",
    "            # output settings\n",
    "            'save_mat': False, # whether to save output as matlab files\n",
    "            'combined': False, # combine multiple planes into a single result /single canvas for GUI\n",
    "            # parallel settings\n",
    "            'num_workers': 0, # 0 to select num_cores, -1 to disable parallelism, N to enforce value\n",
    "            'num_workers_roi': 2, # 0 to select number of planes, -1 to disable parallelism, N to enforce value\n",
    "            # registration settings\n",
    "            'do_registration': True, # whether to register data\n",
    "            'nimg_init': 200, #def = 200, subsampled frames for finding reference image\n",
    "            'batch_size': 200, # number of frames per batch\n",
    "            'maxregshift': 0.05, # max allowed registration shift, as a fraction of frame max(width and height)\n",
    "            'align_by_chan' : 1, # when multi-channel, you can align by non-functional channel (1-based)\n",
    "            'reg_tif': 1, # whether to save registered tiffs\n",
    "            'subpixel' : 10, # precision of subpixel registration (1/subpixel steps)\n",
    "            # cell detection settings\n",
    "            'connected': True, # whether or not to keep ROIs fully connected (set to 0 for dendrites)\n",
    "            'navg_frames_svd': 5000, # max number of binned frames for the SVD\n",
    "            'nsvd_for_roi': 1000, # max number of SVD components to keep for ROI detection\n",
    "            'max_iterations': 20, # maximum number of iterations to do cell detection\n",
    "            'ratio_neuropil': 6.0, # ratio between neuropil basis size and cell radius\n",
    "            'ratio_neuropil_to_cell': 3, # minimum ratio between neuropil radius and cell radius\n",
    "            'tile_factor': 1, # use finer (>1) or coarser (<1) tiles for neuropil estimation during cell detection\n",
    "            'threshold_scaling': 1., # adjust the automatically determined threshold by this scalar multiplier\n",
    "            'max_overlap': 0.75, # cells with more overlap than this get removed during triage, before refinement\n",
    "            'inner_neuropil_radius': 2, # number of pixels to keep between ROI and neuropil donut\n",
    "            'outer_neuropil_radius': np.inf, # maximum neuropil radius\n",
    "            'min_neuropil_pixels':350, # minimum number of pixels in the neuropil\n",
    "            # deconvolution settings\n",
    "            'baseline': 'maximin', # baselining mode\n",
    "            'win_baseline': 60., # window for maximin\n",
    "            'sig_baseline': 10., # smoothing constant for gaussian filter\n",
    "            'prctile_baseline': 8.,# optional (whether to use a percentile baseline)\n",
    "            'neucoeff': .7,  # neuropil coefficient\n",
    "          }\n",
    "        "
   ]
  },
  {
   "cell_type": "markdown",
   "metadata": {},
   "source": [
    "## Run suite2p"
   ]
  },
  {
   "cell_type": "code",
   "execution_count": null,
   "metadata": {},
   "outputs": [],
   "source": [
    "# provide an h5 path in 'h5py' or a tiff path in 'data_path'\n",
    "# db overwrites any ops (allows for experiment specific settings)\n",
    "# db = {\n",
    "#       'h5py': [], # a single h5 file path\n",
    "#       'h5py_key': 'data',\n",
    "#       'look_one_level_down': False, # whether to look in ALL subfolders when searching for tiffs\n",
    "#       'data_path': ['C:/Users/carse/tiffs'], # a list of folders with tiffs \n",
    "#                                              # (or folder of folders with tiffs if look_one_level_down is True, or subfolders is not empty)\n",
    "#       'subfolders': [], # choose subfolders of 'data_path' to look in (optional)\n",
    "#       'fast_disk': 'C:/BIN', # string which specifies where the binary file will be stored (should be an SSD)\n",
    "#     }\n",
    "\n",
    "# run one experiment\n",
    "# opsEnd=run_s2p(ops=ops,db=db)"
   ]
  },
  {
   "cell_type": "code",
   "execution_count": 136,
   "metadata": {},
   "outputs": [],
   "source": [
    "# make a list of databases and loop over them\n",
    "#---------------------------------------------\n",
    "db = []\n",
    "\n",
    "numlist = adfn.name_zero('front', 5,5, 1)\n",
    "for i in numlist:\n",
    "    fish = 'PTZ-WILDTYPE-' + i\n",
    "    read_path = F10t + 'Project/' + fish + '/'\n",
    "    for y in range(10):\n",
    "        plane = 'PTZ-WILDTYPE-' + str(i) +  '_' + 'plane' + str(y)\n",
    "        final_path = read_path + plane\n",
    "        os.chdir(final_path)\n",
    "        db.append({'data_path': [final_path]})"
   ]
  },
  {
   "cell_type": "code",
   "execution_count": 137,
   "metadata": {},
   "outputs": [
    {
     "data": {
      "text/plain": [
       "[{'data_path': ['/Volumes/Dominic 10tb/Project/PTZ-WILDTYPE-05/PTZ-WILDTYPE-05_plane0']},\n",
       " {'data_path': ['/Volumes/Dominic 10tb/Project/PTZ-WILDTYPE-05/PTZ-WILDTYPE-05_plane1']},\n",
       " {'data_path': ['/Volumes/Dominic 10tb/Project/PTZ-WILDTYPE-05/PTZ-WILDTYPE-05_plane2']},\n",
       " {'data_path': ['/Volumes/Dominic 10tb/Project/PTZ-WILDTYPE-05/PTZ-WILDTYPE-05_plane3']},\n",
       " {'data_path': ['/Volumes/Dominic 10tb/Project/PTZ-WILDTYPE-05/PTZ-WILDTYPE-05_plane4']},\n",
       " {'data_path': ['/Volumes/Dominic 10tb/Project/PTZ-WILDTYPE-05/PTZ-WILDTYPE-05_plane5']},\n",
       " {'data_path': ['/Volumes/Dominic 10tb/Project/PTZ-WILDTYPE-05/PTZ-WILDTYPE-05_plane6']},\n",
       " {'data_path': ['/Volumes/Dominic 10tb/Project/PTZ-WILDTYPE-05/PTZ-WILDTYPE-05_plane7']},\n",
       " {'data_path': ['/Volumes/Dominic 10tb/Project/PTZ-WILDTYPE-05/PTZ-WILDTYPE-05_plane8']},\n",
       " {'data_path': ['/Volumes/Dominic 10tb/Project/PTZ-WILDTYPE-05/PTZ-WILDTYPE-05_plane9']}]"
      ]
     },
     "execution_count": 137,
     "metadata": {},
     "output_type": "execute_result"
    }
   ],
   "source": [
    "db"
   ]
  },
  {
   "cell_type": "code",
   "execution_count": null,
   "metadata": {},
   "outputs": [
    {
     "name": "stdout",
     "output_type": "stream",
     "text": [
      "{'data_path': ['/Volumes/Dominic 10tb/Project/PTZ-WILDTYPE-05/PTZ-WILDTYPE-05_plane0']}\n",
      "tif\n",
      "** Found 150 tifs - converting to binary **\n"
     ]
    }
   ],
   "source": [
    "#RUN\n",
    "#-----------------\n",
    "#Fme =  F10t + '/Data2process/Project/' +  experiment + os.sep + date + os.sep + fish[:18] + 'plane' + str(plane)\n",
    "#db = []\n",
    "#db.append({'data_path': [Fme]})\n",
    "                        \n",
    "for dbi in db:\n",
    "    opsEnd=run_s2p(ops=ops,db=dbi)"
   ]
  },
  {
   "cell_type": "markdown",
   "metadata": {},
   "source": [
    "## Backup data"
   ]
  },
  {
   "cell_type": "code",
   "execution_count": null,
   "metadata": {},
   "outputs": [],
   "source": [
    "#BACKUP NONREGISTERED TIFFS IN SUITE2P OUTPUT FORMAT\n",
    "#After doing suite2p on single plane that failed registration, can back up these tiffs \n",
    "#in same format as suite2p output\n",
    "#-----------------------------------------------------------------------------------\n",
    "experiment = 'PTZ-WILDTYPE'\n",
    "date = '190711-WILDTYPE'\n",
    "fish = 'F12-PTZ05-WILDTYPE-2photon-6dpf-gc6s-15%-sess-01-run-01-suite2p'\n",
    "finalpath = F10t + '/Data2process/Project/' +  experiment + os.sep + date + os.sep + fish + os.sep + 'plane9/reg_tif/'\n",
    "fonalpath = F10t + '/Data2process/Project/' +  experiment + os.sep + date + os.sep + fish + os.sep + 'plane9/reg_tif*/'\n",
    "os.chdir(finalpath)\n",
    "os.mkdir(fonalpath)\n",
    "tiflist = sorted(glob.glob('*.tif'))\n",
    "counter = 0\n",
    "\n",
    "for i in range(50):\n",
    "    omlist = []\n",
    "    \n",
    "    if i == 49:\n",
    "        for y in range(28):\n",
    "            omlist.append(Image.fromarray(io.imread(finalpath + tiflist[counter])))\n",
    "            counter+=1\n",
    "            \n",
    "        omlist[0].save(fonalpath + \"file_chan049.tif\", save_all=True,\n",
    "               append_images=omlist[1:])\n",
    "    \n",
    "    for y in range(200):\n",
    "        omlist.append(Image.fromarray(io.imread(finalpath + tiflist[counter])))\n",
    "        counter+=1\n",
    "    \n",
    "    if i < 10:\n",
    "        omlist[0].save(fonalpath + \"file_chan00\" + str(i) + \".tif\", save_all=True,\n",
    "               append_images=omlist[1:])\n",
    "    elif i > 9:\n",
    "        omlist[0].save(fonalpath + \"file_chan0\" + str(i) + \".tif\", save_all=True,\n",
    "               append_images=omlist[1:])\n",
    "        "
   ]
  },
  {
   "cell_type": "code",
   "execution_count": 20,
   "metadata": {},
   "outputs": [],
   "source": [
    "#BACKUP OPS files from raw suite2p data\n",
    "#--------------------------------------------------------------------------------------\n",
    "experiment = 'PTZ-WILDTYPE-06'\n",
    "savepath = Ftm + 'Project/' + experiment + '/2photon/sess-01-6dpf/'\n",
    "\n",
    "for i in range(3):\n",
    "    if i == 0:\n",
    "        condition = 'BLN_'\n",
    "        candition = 'BLN'\n",
    "    elif i ==1:\n",
    "        condition = 'PTZ0'\n",
    "        candition = 'PTZ05'\n",
    "    elif i ==2:\n",
    "        condition = 'PTZ2'\n",
    "        candition = 'PTZ20'\n",
    "\n",
    "               \n",
    "    for y in range(10):\n",
    "        saveops = np.load(Ftm + 'Project/' + experiment + os.sep + experiment + '_' + condition + 'plane' + str(y) + os.sep + 'suite2p/plane0/ops.npy')\n",
    "        savestat = np.load(Ftm + 'Project/' + experiment + os.sep + experiment + '_' + condition + 'plane' + str(y) + os.sep + 'suite2p/plane0/stat.npy')\n",
    "        np.save(savepath + experiment + '_2photon_sess-01-6dpf_' + candition + '_run-01_plane' + str(y) + '_ops.npy', saveops)\n",
    "        np.save(savepath + experiment + '_2photon_sess-01-6dpf_' + candition + '_run-01_plane' + str(y) + '_stat.npy', savestat)"
   ]
  }
 ],
 "metadata": {
  "kernelspec": {
   "display_name": "Python 3",
   "language": "python",
   "name": "python3"
  },
  "language_info": {
   "codemirror_mode": {
    "name": "ipython",
    "version": 3
   },
   "file_extension": ".py",
   "mimetype": "text/x-python",
   "name": "python",
   "nbconvert_exporter": "python",
   "pygments_lexer": "ipython3",
   "version": "3.7.6"
  }
 },
 "nbformat": 4,
 "nbformat_minor": 4
}
