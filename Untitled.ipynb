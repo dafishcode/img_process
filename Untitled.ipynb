{
 "cells": [
  {
   "cell_type": "code",
   "execution_count": 41,
   "metadata": {},
   "outputs": [
    {
     "name": "stdout",
     "output_type": "stream",
     "text": [
      "The autoreload extension is already loaded. To reload it, use:\n",
      "  %reload_ext autoreload\n"
     ]
    }
   ],
   "source": [
    "import sys\n",
    "import seaborn as sns\n",
    "import os\n",
    "import glob\n",
    "from matplotlib import pyplot as plt\n",
    "import numpy as np\n",
    "\n",
    "plt.style.use('dark_background')\n",
    "\n",
    "%load_ext autoreload\n",
    "%autoreload\n",
    "\n",
    "# Define paths\n",
    "#---------------------------------------------------------------------------\n",
    "Fdrop = '/Users/dominicburrows/Dropbox/PhD/analysis/'\n",
    "Fmac = '/Users/dominicburrows/Documents/'\n",
    "F10t = '/Volumes/Dominic 10tb/'\n",
    "Ffig = '/Users/dominicburrows/Dropbox/PhD/figures/'\n",
    "Ftm = '/Volumes/Dominic Time Machine/'"
   ]
  },
  {
   "cell_type": "code",
   "execution_count": null,
   "metadata": {},
   "outputs": [],
   "source": [
    "import numpy as np \n",
    "import matplotlib.pyplot as plt \n",
    "\n",
    "mx_size = 10000\n",
    "\n",
    "\n",
    "mx_log  = np.log(mx_size)\n",
    "vect    = np.linspace(0, mx_log, 100)\n",
    "vect    = np.exp(vect)"
   ]
  },
  {
   "cell_type": "code",
   "execution_count": 8,
   "metadata": {},
   "outputs": [
    {
     "data": {
      "text/plain": [
       "array([1.00000000e+00, 1.09749877e+00, 1.20450354e+00, 1.32194115e+00,\n",
       "       1.45082878e+00, 1.59228279e+00, 1.74752840e+00, 1.91791026e+00,\n",
       "       2.10490414e+00, 2.31012970e+00, 2.53536449e+00, 2.78255940e+00,\n",
       "       3.05385551e+00, 3.35160265e+00, 3.67837977e+00, 4.03701726e+00,\n",
       "       4.43062146e+00, 4.86260158e+00, 5.33669923e+00, 5.85702082e+00,\n",
       "       6.42807312e+00, 7.05480231e+00, 7.74263683e+00, 8.49753436e+00,\n",
       "       9.32603347e+00, 1.02353102e+01, 1.12332403e+01, 1.23284674e+01,\n",
       "       1.35304777e+01, 1.48496826e+01, 1.62975083e+01, 1.78864953e+01,\n",
       "       1.96304065e+01, 2.15443469e+01, 2.36448941e+01, 2.59502421e+01,\n",
       "       2.84803587e+01, 3.12571585e+01, 3.43046929e+01, 3.76493581e+01,\n",
       "       4.13201240e+01, 4.53487851e+01, 4.97702356e+01, 5.46227722e+01,\n",
       "       5.99484250e+01, 6.57933225e+01, 7.22080902e+01, 7.92482898e+01,\n",
       "       8.69749003e+01, 9.54548457e+01, 1.04761575e+02, 1.14975700e+02,\n",
       "       1.26185688e+02, 1.38488637e+02, 1.51991108e+02, 1.66810054e+02,\n",
       "       1.83073828e+02, 2.00923300e+02, 2.20513074e+02, 2.42012826e+02,\n",
       "       2.65608778e+02, 2.91505306e+02, 3.19926714e+02, 3.51119173e+02,\n",
       "       3.85352859e+02, 4.22924287e+02, 4.64158883e+02, 5.09413801e+02,\n",
       "       5.59081018e+02, 6.13590727e+02, 6.73415066e+02, 7.39072203e+02,\n",
       "       8.11130831e+02, 8.90215085e+02, 9.77009957e+02, 1.07226722e+03,\n",
       "       1.17681195e+03, 1.29154967e+03, 1.41747416e+03, 1.55567614e+03,\n",
       "       1.70735265e+03, 1.87381742e+03, 2.05651231e+03, 2.25701972e+03,\n",
       "       2.47707636e+03, 2.71858824e+03, 2.98364724e+03, 3.27454916e+03,\n",
       "       3.59381366e+03, 3.94420606e+03, 4.32876128e+03, 4.75081016e+03,\n",
       "       5.21400829e+03, 5.72236766e+03, 6.28029144e+03, 6.89261210e+03,\n",
       "       7.56463328e+03, 8.30217568e+03, 9.11162756e+03, 1.00000000e+04])"
      ]
     },
     "execution_count": 8,
     "metadata": {},
     "output_type": "execute_result"
    }
   ],
   "source": [
    "vect"
   ]
  },
  {
   "cell_type": "markdown",
   "metadata": {},
   "source": [
    "1. each marker\n",
    "2. Ratio of n cells in marker at t - toncells in marker at t + 1 (n-descendants/n-ancestors)\n",
    "3. Store in vector\n",
    "4. Find mean of this ratio for all avalanches for all time point"
   ]
  }
 ],
 "metadata": {
  "kernelspec": {
   "display_name": "Python 3",
   "language": "python",
   "name": "python3"
  },
  "language_info": {
   "codemirror_mode": {
    "name": "ipython",
    "version": 3
   },
   "file_extension": ".py",
   "mimetype": "text/x-python",
   "name": "python",
   "nbconvert_exporter": "python",
   "pygments_lexer": "ipython3",
   "version": "3.7.0"
  }
 },
 "nbformat": 4,
 "nbformat_minor": 2
}
