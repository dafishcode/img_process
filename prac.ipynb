{
 "cells": [
  {
   "cell_type": "code",
   "execution_count": 4,
   "metadata": {},
   "outputs": [
    {
     "name": "stdout",
     "output_type": "stream",
     "text": [
      "The autoreload extension is already loaded. To reload it, use:\n",
      "  %reload_ext autoreload\n"
     ]
    }
   ],
   "source": [
    "import sys\n",
    "import seaborn as sns\n",
    "import os\n",
    "import glob\n",
    "from matplotlib import pyplot as plt\n",
    "import numpy as np\n",
    "import criticality as crfn\n",
    "import plot as pltfn\n",
    "\n",
    "plt.style.use('dark_background')\n",
    "\n",
    "%load_ext autoreload\n",
    "%autoreload\n",
    "\n",
    "# Define paths\n",
    "#---------------------------------------------------------------------------\n",
    "Fdrop = '/Users/dominicburrows/Dropbox/PhD/analysis/'\n",
    "Fmac = '/Users/dominicburrows/Documents/'\n",
    "F10t = '/Volumes/Dominic 10tb/'\n",
    "Ffig = '/Users/dominicburrows/Dropbox/PhD/figures/'\n",
    "Ftm = '/Volumes/Dominic Time Machine/'"
   ]
  },
  {
   "cell_type": "code",
   "execution_count": 10,
   "metadata": {},
   "outputs": [
    {
     "data": {
      "text/plain": [
       "['PTZ-WILDTYPE-12_2photon_sess-01-6dpf_BLN_run-09_binarisedt.npy',\n",
       " 'PTZ-WILDTYPE-12_2photon_sess-01-6dpf_PTZ05_run-01_binarisedt.npy',\n",
       " 'PTZ-WILDTYPE-12_2photon_sess-01-6dpf_PTZ20_run-01_binarisedt.npy']"
      ]
     },
     "execution_count": 10,
     "metadata": {},
     "output_type": "execute_result"
    }
   ],
   "source": [
    "# Create datalists\n",
    "#---------------------------------------------------------------------------\n",
    "experiment = 'PTZ-WILDTYPE'\n",
    "os.chdir(Fdrop + 'Project/' + experiment)\n",
    "binlist = sorted(glob.glob('*binarisedt.npy'))\n",
    "nnblist = sorted(glob.glob('*-12*nnb.npy'))\n",
    "#pkglist = sorted(glob.glob('*avdurpkg*'))\n",
    "#branchlist = sorted(glob.glob('*branch*'))\n",
    "binlist"
   ]
  },
  {
   "cell_type": "code",
   "execution_count": 11,
   "metadata": {},
   "outputs": [
    {
     "name": "stdout",
     "output_type": "stream",
     "text": [
      "doing time step 0 of 9828for fish 0\n",
      "doing time step 983 of 9828for fish 0\n",
      "doing time step 1966 of 9828for fish 0\n",
      "doing time step 2949 of 9828for fish 0\n",
      "doing time step 3932 of 9828for fish 0\n",
      "doing time step 4915 of 9828for fish 0\n",
      "doing time step 5898 of 9828for fish 0\n",
      "doing time step 6881 of 9828for fish 0\n",
      "doing time step 7864 of 9828for fish 0\n",
      "doing time step 8847 of 9828for fish 0\n",
      "Now calculating avalanche size\n",
      "doing time step 0 of 9828for fish 1\n",
      "doing time step 983 of 9828for fish 1\n",
      "doing time step 1966 of 9828for fish 1\n",
      "doing time step 2949 of 9828for fish 1\n",
      "doing time step 3932 of 9828for fish 1\n",
      "doing time step 4915 of 9828for fish 1\n",
      "doing time step 5898 of 9828for fish 1\n",
      "doing time step 6881 of 9828for fish 1\n",
      "doing time step 7864 of 9828for fish 1\n",
      "doing time step 8847 of 9828for fish 1\n",
      "Now calculating avalanche size\n",
      "doing time step 0 of 9828for fish 2\n",
      "doing time step 983 of 9828for fish 2\n",
      "doing time step 1966 of 9828for fish 2\n",
      "doing time step 2949 of 9828for fish 2\n",
      "doing time step 3932 of 9828for fish 2\n",
      "doing time step 4915 of 9828for fish 2\n",
      "doing time step 5898 of 9828for fish 2\n",
      "doing time step 6881 of 9828for fish 2\n",
      "doing time step 7864 of 9828for fish 2\n",
      "doing time step 8847 of 9828for fish 2\n",
      "Now calculating avalanche size\n"
     ]
    }
   ],
   "source": [
    "# Avalanche size\n",
    "#---------------------------------------------------------------------------\n",
    "Favsizelist, Favsizepkg = crfn.avsize(nnblist, binlist, Fdrop, experiment)"
   ]
  },
  {
   "cell_type": "code",
   "execution_count": 12,
   "metadata": {},
   "outputs": [
    {
     "name": "stdout",
     "output_type": "stream",
     "text": [
      "doing time step 0 of 9828 for fish 0\n",
      "doing time step 983 of 9828 for fish 0\n",
      "doing time step 1966 of 9828 for fish 0\n",
      "doing time step 2949 of 9828 for fish 0\n",
      "doing time step 3932 of 9828 for fish 0\n",
      "doing time step 4915 of 9828 for fish 0\n",
      "doing time step 5898 of 9828 for fish 0\n",
      "doing time step 6881 of 9828 for fish 0\n",
      "doing time step 7864 of 9828 for fish 0\n",
      "doing time step 8847 of 9828 for fish 0\n",
      "Now calculating avalanche duration\n",
      "doing time step 0 of 9828 for fish 1\n",
      "doing time step 983 of 9828 for fish 1\n",
      "doing time step 1966 of 9828 for fish 1\n",
      "doing time step 2949 of 9828 for fish 1\n",
      "doing time step 3932 of 9828 for fish 1\n",
      "doing time step 4915 of 9828 for fish 1\n",
      "doing time step 5898 of 9828 for fish 1\n",
      "doing time step 6881 of 9828 for fish 1\n",
      "doing time step 7864 of 9828 for fish 1\n",
      "doing time step 8847 of 9828 for fish 1\n",
      "Now calculating avalanche duration\n",
      "doing time step 0 of 9828 for fish 2\n",
      "doing time step 983 of 9828 for fish 2\n",
      "doing time step 1966 of 9828 for fish 2\n",
      "doing time step 2949 of 9828 for fish 2\n",
      "doing time step 3932 of 9828 for fish 2\n",
      "doing time step 4915 of 9828 for fish 2\n",
      "doing time step 5898 of 9828 for fish 2\n",
      "doing time step 6881 of 9828 for fish 2\n",
      "doing time step 7864 of 9828 for fish 2\n",
      "doing time step 8847 of 9828 for fish 2\n",
      "Now calculating avalanche duration\n"
     ]
    }
   ],
   "source": [
    "# Avalanche duration\n",
    "#---------------------------------------------------------------------------\n",
    "Favdurlist, Favdurpkg = crfn.avduration(nnblist, binlist, Fdrop, experiment)"
   ]
  },
  {
   "cell_type": "code",
   "execution_count": null,
   "metadata": {},
   "outputs": [],
   "source": []
  }
 ],
 "metadata": {
  "kernelspec": {
   "display_name": "Python 3",
   "language": "python",
   "name": "python3"
  },
  "language_info": {
   "codemirror_mode": {
    "name": "ipython",
    "version": 3
   },
   "file_extension": ".py",
   "mimetype": "text/x-python",
   "name": "python",
   "nbconvert_exporter": "python",
   "pygments_lexer": "ipython3",
   "version": "3.7.0"
  }
 },
 "nbformat": 4,
 "nbformat_minor": 2
}
